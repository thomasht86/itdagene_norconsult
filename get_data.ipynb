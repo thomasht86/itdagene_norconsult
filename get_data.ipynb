{
 "cells": [
  {
   "cell_type": "code",
   "execution_count": null,
   "metadata": {},
   "outputs": [],
   "source": [
    "import pandas as pd\n",
    "import time\n",
    "import datetime as dt\n",
    "import numpy as np\n",
    "import requests\n",
    "import urllib3\n",
    "import json \n",
    "import random \n",
    "\n",
    "urllib3.disable_warnings(urllib3.exceptions.InsecureRequestWarning)"
   ]
  },
  {
   "cell_type": "code",
   "execution_count": 7,
   "metadata": {},
   "outputs": [],
   "source": [
    "proxy =  {'https': 'https://www-proxy.statoil.no:80'}"
   ]
  },
  {
   "cell_type": "code",
   "execution_count": 16,
   "metadata": {},
   "outputs": [],
   "source": [
    "res = requests.get(\"http://www.ime.ntnu.no/api/course/-\", proxies=proxy, verify=False)"
   ]
  },
  {
   "cell_type": "code",
   "execution_count": 17,
   "metadata": {},
   "outputs": [],
   "source": [
    "res_json = json.loads(res.text)"
   ]
  },
  {
   "cell_type": "code",
   "execution_count": 24,
   "metadata": {},
   "outputs": [
    {
     "data": {
      "text/plain": [
       "5586"
      ]
     },
     "execution_count": 24,
     "metadata": {},
     "output_type": "execute_result"
    }
   ],
   "source": [
    "len(res_json[\"course\"])"
   ]
  },
  {
   "cell_type": "code",
   "execution_count": 28,
   "metadata": {},
   "outputs": [
    {
     "data": {
      "text/plain": [
       "{'code': 'MA3402',\n",
       " 'englishName': 'Analysis on Manifolds',\n",
       " 'name': 'Analyse på mangfoldigheter',\n",
       " 'newNorwegianName': 'Analyse på mangfoldigheter',\n",
       " 'norwegianName': 'Analyse på mangfoldigheter',\n",
       " 'versionCode': '1'}"
      ]
     },
     "execution_count": 28,
     "metadata": {},
     "output_type": "execute_result"
    }
   ],
   "source": [
    "res_json[\"course\"][0]"
   ]
  },
  {
   "cell_type": "code",
   "execution_count": 27,
   "metadata": {},
   "outputs": [
    {
     "data": {
      "text/plain": [
       "{'code': 'TPD4910',\n",
       " 'englishName': \"Industrial Ecology, Master's Thesis\",\n",
       " 'name': \"Industrial Ecology, Master's Thesis\",\n",
       " 'norwegianName': \"Industrial Ecology, Master's Thesis\",\n",
       " 'versionCode': '1'}"
      ]
     },
     "execution_count": 27,
     "metadata": {},
     "output_type": "execute_result"
    }
   ],
   "source": [
    "random.choice(res_json[\"course\"])"
   ]
  },
  {
   "cell_type": "code",
   "execution_count": 29,
   "metadata": {},
   "outputs": [],
   "source": [
    "def get_grades(emne):\n",
    "    res = requests.get(\"https://grades.no/api/courses/{}/grades.json\".format(emne), proxies=proxy, verify=False)\n",
    "    return json.loads(res.text)"
   ]
  },
  {
   "cell_type": "code",
   "execution_count": 31,
   "metadata": {},
   "outputs": [
    {
     "data": {
      "text/plain": [
       "[{'a': 7,\n",
       "  'average_grade': 3.533333333333333,\n",
       "  'b': 1,\n",
       "  'c': 3,\n",
       "  'd': 2,\n",
       "  'e': 1,\n",
       "  'f': 1,\n",
       "  'passed': 0,\n",
       "  'semester_code': 'H2008'},\n",
       " {'a': 7,\n",
       "  'average_grade': 3.03125,\n",
       "  'b': 6,\n",
       "  'c': 11,\n",
       "  'd': 2,\n",
       "  'e': 1,\n",
       "  'f': 5,\n",
       "  'passed': 0,\n",
       "  'semester_code': 'H2009'},\n",
       " {'a': 6,\n",
       "  'average_grade': 3.230769230769231,\n",
       "  'b': 6,\n",
       "  'c': 8,\n",
       "  'd': 3,\n",
       "  'e': 0,\n",
       "  'f': 3,\n",
       "  'passed': 0,\n",
       "  'semester_code': 'H2010'},\n",
       " {'a': 2,\n",
       "  'average_grade': 2.576923076923077,\n",
       "  'b': 5,\n",
       "  'c': 9,\n",
       "  'd': 3,\n",
       "  'e': 4,\n",
       "  'f': 3,\n",
       "  'passed': 0,\n",
       "  'semester_code': 'H2011'},\n",
       " {'a': 3,\n",
       "  'average_grade': 2.657142857142857,\n",
       "  'b': 17,\n",
       "  'c': 26,\n",
       "  'd': 9,\n",
       "  'e': 7,\n",
       "  'f': 8,\n",
       "  'passed': 0,\n",
       "  'semester_code': 'H2012'},\n",
       " {'a': 9,\n",
       "  'average_grade': 2.9565217391304346,\n",
       "  'b': 14,\n",
       "  'c': 8,\n",
       "  'd': 4,\n",
       "  'e': 3,\n",
       "  'f': 8,\n",
       "  'passed': 0,\n",
       "  'semester_code': 'H2013'},\n",
       " {'a': 12,\n",
       "  'average_grade': 2.7666666666666666,\n",
       "  'b': 14,\n",
       "  'c': 9,\n",
       "  'd': 7,\n",
       "  'e': 9,\n",
       "  'f': 9,\n",
       "  'passed': 0,\n",
       "  'semester_code': 'H2014'},\n",
       " {'a': 0,\n",
       "  'average_grade': 1.4,\n",
       "  'b': 1,\n",
       "  'c': 0,\n",
       "  'd': 1,\n",
       "  'e': 1,\n",
       "  'f': 2,\n",
       "  'passed': 0,\n",
       "  'semester_code': 'S2015'},\n",
       " {'a': 9,\n",
       "  'average_grade': 2.7625,\n",
       "  'b': 26,\n",
       "  'c': 14,\n",
       "  'd': 9,\n",
       "  'e': 12,\n",
       "  'f': 10,\n",
       "  'passed': 0,\n",
       "  'semester_code': 'V2016'},\n",
       " {'a': 1,\n",
       "  'average_grade': 2.6666666666666665,\n",
       "  'b': 0,\n",
       "  'c': 1,\n",
       "  'd': 0,\n",
       "  'e': 0,\n",
       "  'f': 1,\n",
       "  'passed': 0,\n",
       "  'semester_code': 'S2016'},\n",
       " {'a': 11,\n",
       "  'average_grade': 2.9047619047619047,\n",
       "  'b': 23,\n",
       "  'c': 24,\n",
       "  'd': 9,\n",
       "  'e': 7,\n",
       "  'f': 10,\n",
       "  'passed': 0,\n",
       "  'semester_code': 'V2017'},\n",
       " {'a': 1,\n",
       "  'average_grade': 3.111111111111111,\n",
       "  'b': 3,\n",
       "  'c': 2,\n",
       "  'd': 2,\n",
       "  'e': 1,\n",
       "  'f': 0,\n",
       "  'passed': 0,\n",
       "  'semester_code': 'S2017'},\n",
       " {'a': 10,\n",
       "  'average_grade': 3.025,\n",
       "  'b': 46,\n",
       "  'c': 30,\n",
       "  'd': 17,\n",
       "  'e': 5,\n",
       "  'f': 12,\n",
       "  'passed': 0,\n",
       "  'semester_code': 'V2018'}]"
      ]
     },
     "execution_count": 31,
     "metadata": {},
     "output_type": "execute_result"
    }
   ],
   "source": [
    "get_grades(\"TDT4173\")"
   ]
  },
  {
   "cell_type": "code",
   "execution_count": 35,
   "metadata": {},
   "outputs": [
    {
     "ename": "JSONDecodeError",
     "evalue": "Expecting value: line 1 column 1 (char 0)",
     "output_type": "error",
     "traceback": [
      "\u001b[1;31m---------------------------------------------------------------------------\u001b[0m",
      "\u001b[1;31mJSONDecodeError\u001b[0m                           Traceback (most recent call last)",
      "\u001b[1;32m<ipython-input-35-8b29359430ed>\u001b[0m in \u001b[0;36m<module>\u001b[1;34m()\u001b[0m\n\u001b[1;32m----> 1\u001b[1;33m \u001b[0mgrades\u001b[0m \u001b[1;33m=\u001b[0m \u001b[1;33m{\u001b[0m\u001b[0mcourse\u001b[0m\u001b[1;33m[\u001b[0m\u001b[1;34m\"code\"\u001b[0m\u001b[1;33m]\u001b[0m\u001b[1;33m:\u001b[0m\u001b[0mget_grades\u001b[0m\u001b[1;33m(\u001b[0m\u001b[0mcourse\u001b[0m\u001b[1;33m[\u001b[0m\u001b[1;34m\"code\"\u001b[0m\u001b[1;33m]\u001b[0m\u001b[1;33m)\u001b[0m \u001b[1;32mfor\u001b[0m \u001b[0mcourse\u001b[0m \u001b[1;32min\u001b[0m \u001b[0mres_json\u001b[0m\u001b[1;33m[\u001b[0m\u001b[1;34m\"course\"\u001b[0m\u001b[1;33m]\u001b[0m\u001b[1;33m}\u001b[0m\u001b[1;33m\u001b[0m\u001b[0m\n\u001b[0m",
      "\u001b[1;32m<ipython-input-35-8b29359430ed>\u001b[0m in \u001b[0;36m<dictcomp>\u001b[1;34m(.0)\u001b[0m\n\u001b[1;32m----> 1\u001b[1;33m \u001b[0mgrades\u001b[0m \u001b[1;33m=\u001b[0m \u001b[1;33m{\u001b[0m\u001b[0mcourse\u001b[0m\u001b[1;33m[\u001b[0m\u001b[1;34m\"code\"\u001b[0m\u001b[1;33m]\u001b[0m\u001b[1;33m:\u001b[0m\u001b[0mget_grades\u001b[0m\u001b[1;33m(\u001b[0m\u001b[0mcourse\u001b[0m\u001b[1;33m[\u001b[0m\u001b[1;34m\"code\"\u001b[0m\u001b[1;33m]\u001b[0m\u001b[1;33m)\u001b[0m \u001b[1;32mfor\u001b[0m \u001b[0mcourse\u001b[0m \u001b[1;32min\u001b[0m \u001b[0mres_json\u001b[0m\u001b[1;33m[\u001b[0m\u001b[1;34m\"course\"\u001b[0m\u001b[1;33m]\u001b[0m\u001b[1;33m}\u001b[0m\u001b[1;33m\u001b[0m\u001b[0m\n\u001b[0m",
      "\u001b[1;32m<ipython-input-29-992ebcbd0472>\u001b[0m in \u001b[0;36mget_grades\u001b[1;34m(emne)\u001b[0m\n\u001b[0;32m      1\u001b[0m \u001b[1;32mdef\u001b[0m \u001b[0mget_grades\u001b[0m\u001b[1;33m(\u001b[0m\u001b[0memne\u001b[0m\u001b[1;33m)\u001b[0m\u001b[1;33m:\u001b[0m\u001b[1;33m\u001b[0m\u001b[0m\n\u001b[0;32m      2\u001b[0m     \u001b[0mres\u001b[0m \u001b[1;33m=\u001b[0m \u001b[0mrequests\u001b[0m\u001b[1;33m.\u001b[0m\u001b[0mget\u001b[0m\u001b[1;33m(\u001b[0m\u001b[1;34m\"https://grades.no/api/courses/{}/grades.json\"\u001b[0m\u001b[1;33m.\u001b[0m\u001b[0mformat\u001b[0m\u001b[1;33m(\u001b[0m\u001b[0memne\u001b[0m\u001b[1;33m)\u001b[0m\u001b[1;33m,\u001b[0m \u001b[0mproxies\u001b[0m\u001b[1;33m=\u001b[0m\u001b[0mproxy\u001b[0m\u001b[1;33m,\u001b[0m \u001b[0mverify\u001b[0m\u001b[1;33m=\u001b[0m\u001b[1;32mFalse\u001b[0m\u001b[1;33m)\u001b[0m\u001b[1;33m\u001b[0m\u001b[0m\n\u001b[1;32m----> 3\u001b[1;33m     \u001b[1;32mreturn\u001b[0m \u001b[0mjson\u001b[0m\u001b[1;33m.\u001b[0m\u001b[0mloads\u001b[0m\u001b[1;33m(\u001b[0m\u001b[0mres\u001b[0m\u001b[1;33m.\u001b[0m\u001b[0mtext\u001b[0m\u001b[1;33m)\u001b[0m\u001b[1;33m\u001b[0m\u001b[0m\n\u001b[0m",
      "\u001b[1;32mC:\\appl\\Anaconda\\lib\\json\\__init__.py\u001b[0m in \u001b[0;36mloads\u001b[1;34m(s, encoding, cls, object_hook, parse_float, parse_int, parse_constant, object_pairs_hook, **kw)\u001b[0m\n\u001b[0;32m    352\u001b[0m             \u001b[0mparse_int\u001b[0m \u001b[1;32mis\u001b[0m \u001b[1;32mNone\u001b[0m \u001b[1;32mand\u001b[0m \u001b[0mparse_float\u001b[0m \u001b[1;32mis\u001b[0m \u001b[1;32mNone\u001b[0m \u001b[1;32mand\u001b[0m\u001b[1;33m\u001b[0m\u001b[0m\n\u001b[0;32m    353\u001b[0m             parse_constant is None and object_pairs_hook is None and not kw):\n\u001b[1;32m--> 354\u001b[1;33m         \u001b[1;32mreturn\u001b[0m \u001b[0m_default_decoder\u001b[0m\u001b[1;33m.\u001b[0m\u001b[0mdecode\u001b[0m\u001b[1;33m(\u001b[0m\u001b[0ms\u001b[0m\u001b[1;33m)\u001b[0m\u001b[1;33m\u001b[0m\u001b[0m\n\u001b[0m\u001b[0;32m    355\u001b[0m     \u001b[1;32mif\u001b[0m \u001b[0mcls\u001b[0m \u001b[1;32mis\u001b[0m \u001b[1;32mNone\u001b[0m\u001b[1;33m:\u001b[0m\u001b[1;33m\u001b[0m\u001b[0m\n\u001b[0;32m    356\u001b[0m         \u001b[0mcls\u001b[0m \u001b[1;33m=\u001b[0m \u001b[0mJSONDecoder\u001b[0m\u001b[1;33m\u001b[0m\u001b[0m\n",
      "\u001b[1;32mC:\\appl\\Anaconda\\lib\\json\\decoder.py\u001b[0m in \u001b[0;36mdecode\u001b[1;34m(self, s, _w)\u001b[0m\n\u001b[0;32m    337\u001b[0m \u001b[1;33m\u001b[0m\u001b[0m\n\u001b[0;32m    338\u001b[0m         \"\"\"\n\u001b[1;32m--> 339\u001b[1;33m         \u001b[0mobj\u001b[0m\u001b[1;33m,\u001b[0m \u001b[0mend\u001b[0m \u001b[1;33m=\u001b[0m \u001b[0mself\u001b[0m\u001b[1;33m.\u001b[0m\u001b[0mraw_decode\u001b[0m\u001b[1;33m(\u001b[0m\u001b[0ms\u001b[0m\u001b[1;33m,\u001b[0m \u001b[0midx\u001b[0m\u001b[1;33m=\u001b[0m\u001b[0m_w\u001b[0m\u001b[1;33m(\u001b[0m\u001b[0ms\u001b[0m\u001b[1;33m,\u001b[0m \u001b[1;36m0\u001b[0m\u001b[1;33m)\u001b[0m\u001b[1;33m.\u001b[0m\u001b[0mend\u001b[0m\u001b[1;33m(\u001b[0m\u001b[1;33m)\u001b[0m\u001b[1;33m)\u001b[0m\u001b[1;33m\u001b[0m\u001b[0m\n\u001b[0m\u001b[0;32m    340\u001b[0m         \u001b[0mend\u001b[0m \u001b[1;33m=\u001b[0m \u001b[0m_w\u001b[0m\u001b[1;33m(\u001b[0m\u001b[0ms\u001b[0m\u001b[1;33m,\u001b[0m \u001b[0mend\u001b[0m\u001b[1;33m)\u001b[0m\u001b[1;33m.\u001b[0m\u001b[0mend\u001b[0m\u001b[1;33m(\u001b[0m\u001b[1;33m)\u001b[0m\u001b[1;33m\u001b[0m\u001b[0m\n\u001b[0;32m    341\u001b[0m         \u001b[1;32mif\u001b[0m \u001b[0mend\u001b[0m \u001b[1;33m!=\u001b[0m \u001b[0mlen\u001b[0m\u001b[1;33m(\u001b[0m\u001b[0ms\u001b[0m\u001b[1;33m)\u001b[0m\u001b[1;33m:\u001b[0m\u001b[1;33m\u001b[0m\u001b[0m\n",
      "\u001b[1;32mC:\\appl\\Anaconda\\lib\\json\\decoder.py\u001b[0m in \u001b[0;36mraw_decode\u001b[1;34m(self, s, idx)\u001b[0m\n\u001b[0;32m    355\u001b[0m             \u001b[0mobj\u001b[0m\u001b[1;33m,\u001b[0m \u001b[0mend\u001b[0m \u001b[1;33m=\u001b[0m \u001b[0mself\u001b[0m\u001b[1;33m.\u001b[0m\u001b[0mscan_once\u001b[0m\u001b[1;33m(\u001b[0m\u001b[0ms\u001b[0m\u001b[1;33m,\u001b[0m \u001b[0midx\u001b[0m\u001b[1;33m)\u001b[0m\u001b[1;33m\u001b[0m\u001b[0m\n\u001b[0;32m    356\u001b[0m         \u001b[1;32mexcept\u001b[0m \u001b[0mStopIteration\u001b[0m \u001b[1;32mas\u001b[0m \u001b[0merr\u001b[0m\u001b[1;33m:\u001b[0m\u001b[1;33m\u001b[0m\u001b[0m\n\u001b[1;32m--> 357\u001b[1;33m             \u001b[1;32mraise\u001b[0m \u001b[0mJSONDecodeError\u001b[0m\u001b[1;33m(\u001b[0m\u001b[1;34m\"Expecting value\"\u001b[0m\u001b[1;33m,\u001b[0m \u001b[0ms\u001b[0m\u001b[1;33m,\u001b[0m \u001b[0merr\u001b[0m\u001b[1;33m.\u001b[0m\u001b[0mvalue\u001b[0m\u001b[1;33m)\u001b[0m \u001b[1;32mfrom\u001b[0m \u001b[1;32mNone\u001b[0m\u001b[1;33m\u001b[0m\u001b[0m\n\u001b[0m\u001b[0;32m    358\u001b[0m         \u001b[1;32mreturn\u001b[0m \u001b[0mobj\u001b[0m\u001b[1;33m,\u001b[0m \u001b[0mend\u001b[0m\u001b[1;33m\u001b[0m\u001b[0m\n",
      "\u001b[1;31mJSONDecodeError\u001b[0m: Expecting value: line 1 column 1 (char 0)"
     ]
    }
   ],
   "source": [
    "grades = {course[\"code\"]:get_grades(course[\"code\"]) for course in res_json[\"course\"]}"
   ]
  },
  {
   "cell_type": "code",
   "execution_count": null,
   "metadata": {},
   "outputs": [],
   "source": [
    "grades[\"TDT4173\"]"
   ]
  },
  {
   "cell_type": "code",
   "execution_count": null,
   "metadata": {},
   "outputs": [],
   "source": []
  }
 ],
 "metadata": {
  "kernelspec": {
   "display_name": "Python 3",
   "language": "python",
   "name": "python3"
  },
  "language_info": {
   "codemirror_mode": {
    "name": "ipython",
    "version": 3
   },
   "file_extension": ".py",
   "mimetype": "text/x-python",
   "name": "python",
   "nbconvert_exporter": "python",
   "pygments_lexer": "ipython3",
   "version": "3.6.4"
  }
 },
 "nbformat": 4,
 "nbformat_minor": 2
}
